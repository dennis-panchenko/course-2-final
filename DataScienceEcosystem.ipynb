{
 "cells": [
  {
   "cell_type": "markdown",
   "id": "28689f7c-e9f4-4de7-bf56-961864fc5d7c",
   "metadata": {
    "tags": []
   },
   "source": [
    "# Data Science Tools and Ecosystem"
   ]
  },
  {
   "cell_type": "markdown",
   "id": "f9c89838-d1f4-4965-9f77-e86dc289d0b4",
   "metadata": {
    "tags": []
   },
   "source": [
    "In this notebook, Data Science Tools and Ecosystem are summarized."
   ]
  },
  {
   "cell_type": "markdown",
   "id": "21624149-4e35-41a4-82a8-0ebe7acb567f",
   "metadata": {},
   "source": [
    "**Objectives**\n",
    "\n",
    "* Show an ability to create markdown or code cells\n",
    "* List some of the languages Data Scientists use\n",
    "* List some of the libraries Data Scientists use\n",
    "* List some of the tools Data Scientists use\n",
    "* Show an example of a simple arithmetic expression\n"
   ]
  },
  {
   "cell_type": "markdown",
   "id": "753764a3-8903-4156-9436-d533fd97ea2f",
   "metadata": {},
   "source": [
    "Some of the popular languages that Data Scientists use are:\n",
    "\n",
    "1. R\n",
    "2. Pytyhon\n",
    "3. Julia\n",
    "4. JavaScript\n",
    "5. SQL\n",
    "6. Julia\n",
    "7. SAS\n"
   ]
  },
  {
   "cell_type": "markdown",
   "id": "b1d74c96-7d7d-4762-97c5-5c72f9eac4a4",
   "metadata": {
    "tags": []
   },
   "source": [
    "Some of the commonly used libraries used by Data Scientists include:\n",
    "    \n",
    "1. ggplot\n",
    "2. dplyr\n",
    "3. Pandas\n",
    "4. Keras\n",
    "5. NumPy\n",
    "\n"
   ]
  },
  {
   "cell_type": "markdown",
   "id": "21ad1da5-4188-4cf8-a43a-82ae9644fea8",
   "metadata": {
    "tags": []
   },
   "source": [
    "| Data Science Tools |\n",
    "|--------------------|\n",
    "| RStudio |\n",
    "| Jupyter Notebook |\n",
    "| Zeppelin Notebook |\n",
    "\n"
   ]
  },
  {
   "cell_type": "markdown",
   "id": "b4c2b35d-4a74-4727-96fc-4f53f123278a",
   "metadata": {},
   "source": [
    "### Below are few examples of evaluating arithmetic exressions in Python."
   ]
  },
  {
   "cell_type": "code",
   "execution_count": 11,
   "id": "229a31d5-e6cc-4341-98c2-5fe885d686ec",
   "metadata": {
    "tags": []
   },
   "outputs": [
    {
     "data": {
      "text/plain": [
       "17"
      ]
     },
     "execution_count": 11,
     "metadata": {},
     "output_type": "execute_result"
    }
   ],
   "source": [
    "# This is a simple arithmetic expression to multiply then add integers\n",
    "\n",
    "(3*4)+5"
   ]
  },
  {
   "cell_type": "code",
   "execution_count": 12,
   "id": "6cd61c9a-355f-49b4-9b7e-07dbfd0e9f8b",
   "metadata": {
    "tags": []
   },
   "outputs": [
    {
     "data": {
      "text/plain": [
       "3.3333333333333335"
      ]
     },
     "execution_count": 12,
     "metadata": {},
     "output_type": "execute_result"
    }
   ],
   "source": [
    "# This will convert 200 minutes to hours by dividing by 60.\n",
    "\n",
    "200 / 60"
   ]
  },
  {
   "cell_type": "markdown",
   "id": "8583eb60-e3fe-4e00-9a86-eae53d4e9f9b",
   "metadata": {
    "tags": []
   },
   "source": [
    "## Author\n",
    "\n",
    "Dennis Panchenko"
   ]
  },
  {
   "cell_type": "code",
   "execution_count": null,
   "id": "7c7bd41b-93d3-43f1-ab35-74cbdaa059ef",
   "metadata": {},
   "outputs": [],
   "source": []
  }
 ],
 "metadata": {
  "kernelspec": {
   "display_name": "Python 3 (ipykernel)",
   "language": "python",
   "name": "python3"
  },
  "language_info": {
   "codemirror_mode": {
    "name": "ipython",
    "version": 3
   },
   "file_extension": ".py",
   "mimetype": "text/x-python",
   "name": "python",
   "nbconvert_exporter": "python",
   "pygments_lexer": "ipython3",
   "version": "3.10.13"
  }
 },
 "nbformat": 4,
 "nbformat_minor": 5
}
